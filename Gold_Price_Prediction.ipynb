{
 "cells": [
  {
   "cell_type": "code",
   "execution_count": 1,
   "id": "621f858e",
   "metadata": {},
   "outputs": [],
   "source": [
    "import numpy as np\n",
    "import pandas as pd\n",
    "import matplotlib.pyplot as plt\n",
    "import seaborn as sns\n",
    "from sklearn.model_selection import train_test_split\n",
    "from sklearn.ensemble import RandomForestRegressor\n",
    "from sklearn import metrics"
   ]
  },
  {
   "cell_type": "code",
   "execution_count": 3,
   "id": "ef495c28",
   "metadata": {},
   "outputs": [],
   "source": [
    "gold_data = pd.read_csv(\"gld_price_data.csv\")"
   ]
  },
  {
   "cell_type": "code",
   "execution_count": 4,
   "id": "08e9c6d4",
   "metadata": {},
   "outputs": [
    {
     "data": {
      "text/html": [
       "<div>\n",
       "<style scoped>\n",
       "    .dataframe tbody tr th:only-of-type {\n",
       "        vertical-align: middle;\n",
       "    }\n",
       "\n",
       "    .dataframe tbody tr th {\n",
       "        vertical-align: top;\n",
       "    }\n",
       "\n",
       "    .dataframe thead th {\n",
       "        text-align: right;\n",
       "    }\n",
       "</style>\n",
       "<table border=\"1\" class=\"dataframe\">\n",
       "  <thead>\n",
       "    <tr style=\"text-align: right;\">\n",
       "      <th></th>\n",
       "      <th>Date</th>\n",
       "      <th>SPX</th>\n",
       "      <th>GLD</th>\n",
       "      <th>USO</th>\n",
       "      <th>SLV</th>\n",
       "      <th>EUR/USD</th>\n",
       "    </tr>\n",
       "  </thead>\n",
       "  <tbody>\n",
       "    <tr>\n",
       "      <th>0</th>\n",
       "      <td>1/2/2008</td>\n",
       "      <td>1447.160034</td>\n",
       "      <td>84.860001</td>\n",
       "      <td>78.470001</td>\n",
       "      <td>15.180000</td>\n",
       "      <td>1.471692</td>\n",
       "    </tr>\n",
       "    <tr>\n",
       "      <th>1</th>\n",
       "      <td>1/3/2008</td>\n",
       "      <td>1447.160034</td>\n",
       "      <td>85.570000</td>\n",
       "      <td>78.370003</td>\n",
       "      <td>15.285000</td>\n",
       "      <td>1.474491</td>\n",
       "    </tr>\n",
       "    <tr>\n",
       "      <th>2</th>\n",
       "      <td>1/4/2008</td>\n",
       "      <td>1411.630005</td>\n",
       "      <td>85.129997</td>\n",
       "      <td>77.309998</td>\n",
       "      <td>15.167000</td>\n",
       "      <td>1.475492</td>\n",
       "    </tr>\n",
       "    <tr>\n",
       "      <th>3</th>\n",
       "      <td>1/7/2008</td>\n",
       "      <td>1416.180054</td>\n",
       "      <td>84.769997</td>\n",
       "      <td>75.500000</td>\n",
       "      <td>15.053000</td>\n",
       "      <td>1.468299</td>\n",
       "    </tr>\n",
       "    <tr>\n",
       "      <th>4</th>\n",
       "      <td>1/8/2008</td>\n",
       "      <td>1390.189941</td>\n",
       "      <td>86.779999</td>\n",
       "      <td>76.059998</td>\n",
       "      <td>15.590000</td>\n",
       "      <td>1.557099</td>\n",
       "    </tr>\n",
       "    <tr>\n",
       "      <th>5</th>\n",
       "      <td>1/9/2008</td>\n",
       "      <td>1409.130005</td>\n",
       "      <td>86.550003</td>\n",
       "      <td>75.250000</td>\n",
       "      <td>15.520000</td>\n",
       "      <td>1.466405</td>\n",
       "    </tr>\n",
       "    <tr>\n",
       "      <th>6</th>\n",
       "      <td>1/10/2008</td>\n",
       "      <td>1420.329956</td>\n",
       "      <td>88.250000</td>\n",
       "      <td>74.019997</td>\n",
       "      <td>16.061001</td>\n",
       "      <td>1.480100</td>\n",
       "    </tr>\n",
       "    <tr>\n",
       "      <th>7</th>\n",
       "      <td>1/11/2008</td>\n",
       "      <td>1401.020020</td>\n",
       "      <td>88.580002</td>\n",
       "      <td>73.089996</td>\n",
       "      <td>16.077000</td>\n",
       "      <td>1.479006</td>\n",
       "    </tr>\n",
       "    <tr>\n",
       "      <th>8</th>\n",
       "      <td>1/14/2008</td>\n",
       "      <td>1416.250000</td>\n",
       "      <td>89.540001</td>\n",
       "      <td>74.250000</td>\n",
       "      <td>16.280001</td>\n",
       "      <td>1.486900</td>\n",
       "    </tr>\n",
       "    <tr>\n",
       "      <th>9</th>\n",
       "      <td>1/15/2008</td>\n",
       "      <td>1380.949951</td>\n",
       "      <td>87.989998</td>\n",
       "      <td>72.779999</td>\n",
       "      <td>15.834000</td>\n",
       "      <td>1.480210</td>\n",
       "    </tr>\n",
       "  </tbody>\n",
       "</table>\n",
       "</div>"
      ],
      "text/plain": [
       "        Date          SPX        GLD        USO        SLV   EUR/USD\n",
       "0   1/2/2008  1447.160034  84.860001  78.470001  15.180000  1.471692\n",
       "1   1/3/2008  1447.160034  85.570000  78.370003  15.285000  1.474491\n",
       "2   1/4/2008  1411.630005  85.129997  77.309998  15.167000  1.475492\n",
       "3   1/7/2008  1416.180054  84.769997  75.500000  15.053000  1.468299\n",
       "4   1/8/2008  1390.189941  86.779999  76.059998  15.590000  1.557099\n",
       "5   1/9/2008  1409.130005  86.550003  75.250000  15.520000  1.466405\n",
       "6  1/10/2008  1420.329956  88.250000  74.019997  16.061001  1.480100\n",
       "7  1/11/2008  1401.020020  88.580002  73.089996  16.077000  1.479006\n",
       "8  1/14/2008  1416.250000  89.540001  74.250000  16.280001  1.486900\n",
       "9  1/15/2008  1380.949951  87.989998  72.779999  15.834000  1.480210"
      ]
     },
     "execution_count": 4,
     "metadata": {},
     "output_type": "execute_result"
    }
   ],
   "source": [
    "gold_data.head(10)"
   ]
  },
  {
   "cell_type": "code",
   "execution_count": 5,
   "id": "26fe24eb",
   "metadata": {},
   "outputs": [
    {
     "data": {
      "text/html": [
       "<div>\n",
       "<style scoped>\n",
       "    .dataframe tbody tr th:only-of-type {\n",
       "        vertical-align: middle;\n",
       "    }\n",
       "\n",
       "    .dataframe tbody tr th {\n",
       "        vertical-align: top;\n",
       "    }\n",
       "\n",
       "    .dataframe thead th {\n",
       "        text-align: right;\n",
       "    }\n",
       "</style>\n",
       "<table border=\"1\" class=\"dataframe\">\n",
       "  <thead>\n",
       "    <tr style=\"text-align: right;\">\n",
       "      <th></th>\n",
       "      <th>Date</th>\n",
       "      <th>SPX</th>\n",
       "      <th>GLD</th>\n",
       "      <th>USO</th>\n",
       "      <th>SLV</th>\n",
       "      <th>EUR/USD</th>\n",
       "    </tr>\n",
       "  </thead>\n",
       "  <tbody>\n",
       "    <tr>\n",
       "      <th>2280</th>\n",
       "      <td>4/30/2018</td>\n",
       "      <td>2648.050049</td>\n",
       "      <td>124.589996</td>\n",
       "      <td>13.8000</td>\n",
       "      <td>15.3800</td>\n",
       "      <td>1.208123</td>\n",
       "    </tr>\n",
       "    <tr>\n",
       "      <th>2281</th>\n",
       "      <td>5/1/2018</td>\n",
       "      <td>2654.800049</td>\n",
       "      <td>123.709999</td>\n",
       "      <td>13.6100</td>\n",
       "      <td>15.2400</td>\n",
       "      <td>1.199156</td>\n",
       "    </tr>\n",
       "    <tr>\n",
       "      <th>2282</th>\n",
       "      <td>5/2/2018</td>\n",
       "      <td>2635.669922</td>\n",
       "      <td>123.650002</td>\n",
       "      <td>13.6700</td>\n",
       "      <td>15.4200</td>\n",
       "      <td>1.195100</td>\n",
       "    </tr>\n",
       "    <tr>\n",
       "      <th>2283</th>\n",
       "      <td>5/3/2018</td>\n",
       "      <td>2629.729980</td>\n",
       "      <td>124.279999</td>\n",
       "      <td>13.8200</td>\n",
       "      <td>15.4600</td>\n",
       "      <td>1.198926</td>\n",
       "    </tr>\n",
       "    <tr>\n",
       "      <th>2284</th>\n",
       "      <td>5/7/2018</td>\n",
       "      <td>2672.629883</td>\n",
       "      <td>124.570000</td>\n",
       "      <td>14.1000</td>\n",
       "      <td>15.5200</td>\n",
       "      <td>1.193374</td>\n",
       "    </tr>\n",
       "    <tr>\n",
       "      <th>2285</th>\n",
       "      <td>5/8/2018</td>\n",
       "      <td>2671.919922</td>\n",
       "      <td>124.589996</td>\n",
       "      <td>14.0600</td>\n",
       "      <td>15.5100</td>\n",
       "      <td>1.186789</td>\n",
       "    </tr>\n",
       "    <tr>\n",
       "      <th>2286</th>\n",
       "      <td>5/9/2018</td>\n",
       "      <td>2697.790039</td>\n",
       "      <td>124.330002</td>\n",
       "      <td>14.3700</td>\n",
       "      <td>15.5300</td>\n",
       "      <td>1.184722</td>\n",
       "    </tr>\n",
       "    <tr>\n",
       "      <th>2287</th>\n",
       "      <td>5/10/2018</td>\n",
       "      <td>2723.070068</td>\n",
       "      <td>125.180000</td>\n",
       "      <td>14.4100</td>\n",
       "      <td>15.7400</td>\n",
       "      <td>1.191753</td>\n",
       "    </tr>\n",
       "    <tr>\n",
       "      <th>2288</th>\n",
       "      <td>5/14/2018</td>\n",
       "      <td>2730.129883</td>\n",
       "      <td>124.489998</td>\n",
       "      <td>14.3800</td>\n",
       "      <td>15.5600</td>\n",
       "      <td>1.193118</td>\n",
       "    </tr>\n",
       "    <tr>\n",
       "      <th>2289</th>\n",
       "      <td>5/16/2018</td>\n",
       "      <td>2725.780029</td>\n",
       "      <td>122.543800</td>\n",
       "      <td>14.4058</td>\n",
       "      <td>15.4542</td>\n",
       "      <td>1.182033</td>\n",
       "    </tr>\n",
       "  </tbody>\n",
       "</table>\n",
       "</div>"
      ],
      "text/plain": [
       "           Date          SPX         GLD      USO      SLV   EUR/USD\n",
       "2280  4/30/2018  2648.050049  124.589996  13.8000  15.3800  1.208123\n",
       "2281   5/1/2018  2654.800049  123.709999  13.6100  15.2400  1.199156\n",
       "2282   5/2/2018  2635.669922  123.650002  13.6700  15.4200  1.195100\n",
       "2283   5/3/2018  2629.729980  124.279999  13.8200  15.4600  1.198926\n",
       "2284   5/7/2018  2672.629883  124.570000  14.1000  15.5200  1.193374\n",
       "2285   5/8/2018  2671.919922  124.589996  14.0600  15.5100  1.186789\n",
       "2286   5/9/2018  2697.790039  124.330002  14.3700  15.5300  1.184722\n",
       "2287  5/10/2018  2723.070068  125.180000  14.4100  15.7400  1.191753\n",
       "2288  5/14/2018  2730.129883  124.489998  14.3800  15.5600  1.193118\n",
       "2289  5/16/2018  2725.780029  122.543800  14.4058  15.4542  1.182033"
      ]
     },
     "execution_count": 5,
     "metadata": {},
     "output_type": "execute_result"
    }
   ],
   "source": [
    "gold_data.tail(10)"
   ]
  },
  {
   "cell_type": "code",
   "execution_count": 6,
   "id": "5e41139b",
   "metadata": {},
   "outputs": [
    {
     "data": {
      "text/plain": [
       "(2290, 6)"
      ]
     },
     "execution_count": 6,
     "metadata": {},
     "output_type": "execute_result"
    }
   ],
   "source": [
    "gold_data.shape"
   ]
  },
  {
   "cell_type": "code",
   "execution_count": 7,
   "id": "4194482b",
   "metadata": {},
   "outputs": [
    {
     "name": "stdout",
     "output_type": "stream",
     "text": [
      "<class 'pandas.core.frame.DataFrame'>\n",
      "RangeIndex: 2290 entries, 0 to 2289\n",
      "Data columns (total 6 columns):\n",
      " #   Column   Non-Null Count  Dtype  \n",
      "---  ------   --------------  -----  \n",
      " 0   Date     2290 non-null   object \n",
      " 1   SPX      2290 non-null   float64\n",
      " 2   GLD      2290 non-null   float64\n",
      " 3   USO      2290 non-null   float64\n",
      " 4   SLV      2290 non-null   float64\n",
      " 5   EUR/USD  2290 non-null   float64\n",
      "dtypes: float64(5), object(1)\n",
      "memory usage: 107.5+ KB\n"
     ]
    }
   ],
   "source": [
    "gold_data.info()"
   ]
  },
  {
   "cell_type": "code",
   "execution_count": 8,
   "id": "2417dd0a",
   "metadata": {},
   "outputs": [
    {
     "data": {
      "text/plain": [
       "Date       0\n",
       "SPX        0\n",
       "GLD        0\n",
       "USO        0\n",
       "SLV        0\n",
       "EUR/USD    0\n",
       "dtype: int64"
      ]
     },
     "execution_count": 8,
     "metadata": {},
     "output_type": "execute_result"
    }
   ],
   "source": [
    "gold_data.isnull().sum()"
   ]
  },
  {
   "cell_type": "code",
   "execution_count": 9,
   "id": "508a5d21",
   "metadata": {},
   "outputs": [
    {
     "data": {
      "text/html": [
       "<div>\n",
       "<style scoped>\n",
       "    .dataframe tbody tr th:only-of-type {\n",
       "        vertical-align: middle;\n",
       "    }\n",
       "\n",
       "    .dataframe tbody tr th {\n",
       "        vertical-align: top;\n",
       "    }\n",
       "\n",
       "    .dataframe thead th {\n",
       "        text-align: right;\n",
       "    }\n",
       "</style>\n",
       "<table border=\"1\" class=\"dataframe\">\n",
       "  <thead>\n",
       "    <tr style=\"text-align: right;\">\n",
       "      <th></th>\n",
       "      <th>SPX</th>\n",
       "      <th>GLD</th>\n",
       "      <th>USO</th>\n",
       "      <th>SLV</th>\n",
       "      <th>EUR/USD</th>\n",
       "    </tr>\n",
       "  </thead>\n",
       "  <tbody>\n",
       "    <tr>\n",
       "      <th>count</th>\n",
       "      <td>2290.000000</td>\n",
       "      <td>2290.000000</td>\n",
       "      <td>2290.000000</td>\n",
       "      <td>2290.000000</td>\n",
       "      <td>2290.000000</td>\n",
       "    </tr>\n",
       "    <tr>\n",
       "      <th>mean</th>\n",
       "      <td>1654.315776</td>\n",
       "      <td>122.732875</td>\n",
       "      <td>31.842221</td>\n",
       "      <td>20.084997</td>\n",
       "      <td>1.283653</td>\n",
       "    </tr>\n",
       "    <tr>\n",
       "      <th>std</th>\n",
       "      <td>519.111540</td>\n",
       "      <td>23.283346</td>\n",
       "      <td>19.523517</td>\n",
       "      <td>7.092566</td>\n",
       "      <td>0.131547</td>\n",
       "    </tr>\n",
       "    <tr>\n",
       "      <th>min</th>\n",
       "      <td>676.530029</td>\n",
       "      <td>70.000000</td>\n",
       "      <td>7.960000</td>\n",
       "      <td>8.850000</td>\n",
       "      <td>1.039047</td>\n",
       "    </tr>\n",
       "    <tr>\n",
       "      <th>25%</th>\n",
       "      <td>1239.874969</td>\n",
       "      <td>109.725000</td>\n",
       "      <td>14.380000</td>\n",
       "      <td>15.570000</td>\n",
       "      <td>1.171313</td>\n",
       "    </tr>\n",
       "    <tr>\n",
       "      <th>50%</th>\n",
       "      <td>1551.434998</td>\n",
       "      <td>120.580002</td>\n",
       "      <td>33.869999</td>\n",
       "      <td>17.268500</td>\n",
       "      <td>1.303297</td>\n",
       "    </tr>\n",
       "    <tr>\n",
       "      <th>75%</th>\n",
       "      <td>2073.010070</td>\n",
       "      <td>132.840004</td>\n",
       "      <td>37.827501</td>\n",
       "      <td>22.882500</td>\n",
       "      <td>1.369971</td>\n",
       "    </tr>\n",
       "    <tr>\n",
       "      <th>max</th>\n",
       "      <td>2872.870117</td>\n",
       "      <td>184.589996</td>\n",
       "      <td>117.480003</td>\n",
       "      <td>47.259998</td>\n",
       "      <td>1.598798</td>\n",
       "    </tr>\n",
       "  </tbody>\n",
       "</table>\n",
       "</div>"
      ],
      "text/plain": [
       "               SPX          GLD          USO          SLV      EUR/USD\n",
       "count  2290.000000  2290.000000  2290.000000  2290.000000  2290.000000\n",
       "mean   1654.315776   122.732875    31.842221    20.084997     1.283653\n",
       "std     519.111540    23.283346    19.523517     7.092566     0.131547\n",
       "min     676.530029    70.000000     7.960000     8.850000     1.039047\n",
       "25%    1239.874969   109.725000    14.380000    15.570000     1.171313\n",
       "50%    1551.434998   120.580002    33.869999    17.268500     1.303297\n",
       "75%    2073.010070   132.840004    37.827501    22.882500     1.369971\n",
       "max    2872.870117   184.589996   117.480003    47.259998     1.598798"
      ]
     },
     "execution_count": 9,
     "metadata": {},
     "output_type": "execute_result"
    }
   ],
   "source": [
    "gold_data.describe()"
   ]
  },
  {
   "cell_type": "code",
   "execution_count": 13,
   "id": "c831d2cd",
   "metadata": {},
   "outputs": [
    {
     "name": "stdout",
     "output_type": "stream",
     "text": [
      "Non-numeric columns: Index(['Date'], dtype='object')\n"
     ]
    }
   ],
   "source": [
    "non_numeric_columns = gold_data.select_dtypes(exclude=['float', 'int']).columns\n",
    "print(\"Non-numeric columns:\", non_numeric_columns)\n"
   ]
  },
  {
   "cell_type": "code",
   "execution_count": 14,
   "id": "c8fd2c79",
   "metadata": {},
   "outputs": [],
   "source": [
    "# Convert date column (example: 'Date') to datetime\n",
    "gold_data['Date'] = pd.to_datetime(gold_data['Date'], errors='coerce')\n",
    "\n",
    "# Drop non-numeric columns\n",
    "gold_data = gold_data.select_dtypes(include=['float', 'int'])\n"
   ]
  },
  {
   "cell_type": "code",
   "execution_count": 15,
   "id": "9331f8b4",
   "metadata": {},
   "outputs": [
    {
     "name": "stdout",
     "output_type": "stream",
     "text": [
      "Missing values:\n",
      " SPX        0\n",
      "GLD        0\n",
      "USO        0\n",
      "SLV        0\n",
      "EUR/USD    0\n",
      "dtype: int64\n"
     ]
    }
   ],
   "source": [
    "print(\"Missing values:\\n\", gold_data.isnull().sum())\n",
    "\n",
    "# Drop rows with missing values or fill them with appropriate values\n",
    "gold_data = gold_data.dropna()  # or use gold_data.fillna(value)\n"
   ]
  },
  {
   "cell_type": "code",
   "execution_count": 16,
   "id": "29ca4156",
   "metadata": {},
   "outputs": [
    {
     "name": "stdout",
     "output_type": "stream",
     "text": [
      "              SPX       GLD       USO       SLV   EUR/USD\n",
      "SPX      1.000000  0.049345 -0.591573 -0.274055 -0.672017\n",
      "GLD      0.049345  1.000000 -0.186360  0.866632 -0.024375\n",
      "USO     -0.591573 -0.186360  1.000000  0.167547  0.829317\n",
      "SLV     -0.274055  0.866632  0.167547  1.000000  0.321631\n",
      "EUR/USD -0.672017 -0.024375  0.829317  0.321631  1.000000\n"
     ]
    }
   ],
   "source": [
    "correlation = gold_data.corr()\n",
    "print(correlation)\n",
    "\n"
   ]
  },
  {
   "cell_type": "code",
   "execution_count": 17,
   "id": "d4ce661a",
   "metadata": {},
   "outputs": [
    {
     "data": {
      "text/plain": [
       "<Axes: >"
      ]
     },
     "execution_count": 17,
     "metadata": {},
     "output_type": "execute_result"
    },
    {
     "data": {
      "image/png": "[encoded data removed]",
      "text/plain": [
       "<Figure size 800x800 with 2 Axes>"
      ]
     },
     "metadata": {},
     "output_type": "display_data"
    }
   ],
   "source": [
    "plt.figure(figsize = (8,8))\n",
    "sns.heatmap(correlation, cbar=True, square=True, fmt='.1f',annot=True, annot_kws={'size':8}, cmap='Blues')"
   ]
  },
  {
   "cell_type": "code",
   "execution_count": 18,
   "id": "894ac9eb",
   "metadata": {},
   "outputs": [
    {
     "name": "stdout",
     "output_type": "stream",
     "text": [
      "SPX        0.049345\n",
      "GLD        1.000000\n",
      "USO       -0.186360\n",
      "SLV        0.866632\n",
      "EUR/USD   -0.024375\n",
      "Name: GLD, dtype: float64\n"
     ]
    }
   ],
   "source": [
    "print(correlation['GLD'])"
   ]
  },
  {
   "cell_type": "code",
   "execution_count": 19,
   "id": "6a94d7f9",
   "metadata": {},
   "outputs": [
    {
     "name": "stderr",
     "output_type": "stream",
     "text": [
      "C:\\Users\\lenovo\\AppData\\Local\\Temp\\ipykernel_4440\\4227780549.py:1: UserWarning: \n",
      "\n",
      "`distplot` is a deprecated function and will be removed in seaborn v0.14.0.\n",
      "\n",
      "Please adapt your code to use either `displot` (a figure-level function with\n",
      "similar flexibility) or `histplot` (an axes-level function for histograms).\n",
      "\n",
      "For a guide to updating your code to use the new functions, please see\n",
      "https://gist.github.com/mwaskom/de44147ed2974457ad6372750bbe5751\n",
      "\n",
      "  sns.distplot(gold_data['GLD'],color='green')\n"
     ]
    },
    {
     "data": {
      "text/plain": [
       "<Axes: xlabel='GLD', ylabel='Density'>"
      ]
     },
     "execution_count": 19,
     "metadata": {},
     "output_type": "execute_result"
    },
    {
     "data": {
      "image/png": "[encoded data removed]",
      "text/plain": [
       "<Figure size 640x480 with 1 Axes>"
      ]
     },
     "metadata": {},
     "output_type": "display_data"
    }
   ],
   "source": [
    "sns.distplot(gold_data['GLD'],color='green')"
   ]
  },
  {
   "cell_type": "code",
   "execution_count": 22,
   "id": "851ece60",
   "metadata": {},
   "outputs": [
    {
     "name": "stdout",
     "output_type": "stream",
     "text": [
      "Index(['SPX', 'GLD', 'USO', 'SLV', 'EUR/USD'], dtype='object')\n"
     ]
    }
   ],
   "source": [
    "print(gold_data.columns)\n"
   ]
  },
  {
   "cell_type": "code",
   "execution_count": 23,
   "id": "11b18db9",
   "metadata": {},
   "outputs": [],
   "source": [
    "columns_to_drop = ['Date', 'GLD']\n",
    "existing_columns = [col for col in columns_to_drop if col in gold_data.columns]\n",
    "\n",
    "X = gold_data.drop(existing_columns, axis=1)\n",
    "if 'GLD' in gold_data.columns:\n",
    "    Y = gold_data['GLD']\n",
    "else:\n",
    "    Y = None  # Handle the absence of 'GLD' as required\n"
   ]
  },
  {
   "cell_type": "code",
   "execution_count": 24,
   "id": "dd5cc4b5",
   "metadata": {},
   "outputs": [],
   "source": [
    "gold_data.columns = gold_data.columns.str.strip()\n"
   ]
  },
  {
   "cell_type": "code",
   "execution_count": 25,
   "id": "dd221db3",
   "metadata": {},
   "outputs": [],
   "source": [
    "X = gold_data.drop(['Date', 'GLD'], axis=1, errors='ignore')\n",
    "Y = gold_data['GLD'] if 'GLD' in gold_data.columns else None\n"
   ]
  },
  {
   "cell_type": "code",
   "execution_count": 27,
   "id": "a4acd6df",
   "metadata": {},
   "outputs": [],
   "source": [
    "gold_data = pd.read_csv(\"gld_price_data.csv\")\n"
   ]
  },
  {
   "cell_type": "code",
   "execution_count": 28,
   "id": "72b85db0",
   "metadata": {},
   "outputs": [
    {
     "name": "stdout",
     "output_type": "stream",
     "text": [
      "Index(['Date', 'SPX', 'GLD', 'USO', 'SLV', 'EUR/USD'], dtype='object')\n"
     ]
    }
   ],
   "source": [
    "# Verify column names\n",
    "print(gold_data.columns)\n",
    "\n",
    "# Drop columns dynamically\n",
    "columns_to_drop = ['Date', 'GLD']\n",
    "existing_columns = [col for col in columns_to_drop if col in gold_data.columns]\n",
    "\n",
    "X = gold_data.drop(existing_columns, axis=1)\n",
    "\n",
    "# Handle 'GLD'\n",
    "if 'GLD' in gold_data.columns:\n",
    "    Y = gold_data['GLD']\n",
    "else:\n",
    "    raise ValueError(\"Column 'GLD' is missing from the dataset.\")\n"
   ]
  },
  {
   "cell_type": "code",
   "execution_count": 29,
   "id": "5cadc240",
   "metadata": {},
   "outputs": [],
   "source": [
    "X = gold_data.drop(['Date','GLD'],axis=1)\n",
    "Y = gold_data['GLD']"
   ]
  },
  {
   "cell_type": "code",
   "execution_count": 31,
   "id": "83ea6c9d",
   "metadata": {},
   "outputs": [
    {
     "name": "stdout",
     "output_type": "stream",
     "text": [
      "              SPX        USO      SLV   EUR/USD\n",
      "0     1447.160034  78.470001  15.1800  1.471692\n",
      "1     1447.160034  78.370003  15.2850  1.474491\n",
      "2     1411.630005  77.309998  15.1670  1.475492\n",
      "3     1416.180054  75.500000  15.0530  1.468299\n",
      "4     1390.189941  76.059998  15.5900  1.557099\n",
      "...           ...        ...      ...       ...\n",
      "2285  2671.919922  14.060000  15.5100  1.186789\n",
      "2286  2697.790039  14.370000  15.5300  1.184722\n",
      "2287  2723.070068  14.410000  15.7400  1.191753\n",
      "2288  2730.129883  14.380000  15.5600  1.193118\n",
      "2289  2725.780029  14.405800  15.4542  1.182033\n",
      "\n",
      "[2290 rows x 4 columns]\n"
     ]
    }
   ],
   "source": [
    "print(X)"
   ]
  },
  {
   "cell_type": "code",
   "execution_count": 32,
   "id": "7d4f9f3b",
   "metadata": {},
   "outputs": [
    {
     "name": "stdout",
     "output_type": "stream",
     "text": [
      "0        84.860001\n",
      "1        85.570000\n",
      "2        85.129997\n",
      "3        84.769997\n",
      "4        86.779999\n",
      "           ...    \n",
      "2285    124.589996\n",
      "2286    124.330002\n",
      "2287    125.180000\n",
      "2288    124.489998\n",
      "2289    122.543800\n",
      "Name: GLD, Length: 2290, dtype: float64\n"
     ]
    }
   ],
   "source": [
    "print(Y)"
   ]
  },
  {
   "cell_type": "code",
   "execution_count": 33,
   "id": "1c9712ed",
   "metadata": {},
   "outputs": [],
   "source": [
    "X_train, X_test, Y_train, Y_test = train_test_split(X, Y, test_size = 0.2, random_state=2)"
   ]
  },
  {
   "cell_type": "code",
   "execution_count": 34,
   "id": "f3694fab",
   "metadata": {},
   "outputs": [],
   "source": [
    "regressor = RandomForestRegressor(n_estimators=100)"
   ]
  },
  {
   "cell_type": "code",
   "execution_count": 35,
   "id": "e19204eb",
   "metadata": {},
   "outputs": [
    {
     "data": {
      "text/html": [
       "<style>#sk-container-id-1 {color: black;}#sk-container-id-1 pre{padding: 0;}#sk-container-id-1 div.sk-toggleable {background-color: white;}#sk-container-id-1 label.sk-toggleable__label {cursor: pointer;display: block;width: 100%;margin-bottom: 0;padding: 0.3em;box-sizing: border-box;text-align: center;}#sk-container-id-1 label.sk-toggleable__label-arrow:before {content: \"▸\";float: left;margin-right: 0.25em;color: #696969;}#sk-container-id-1 label.sk-toggleable__label-arrow:hover:before {color: black;}#sk-container-id-1 div.sk-estimator:hover label.sk-toggleable__label-arrow:before {color: black;}#sk-container-id-1 div.sk-toggleable__content {max-height: 0;max-width: 0;overflow: hidden;text-align: left;background-color: #f0f8ff;}#sk-container-id-1 div.sk-toggleable__content pre {margin: 0.2em;color: black;border-radius: 0.25em;background-color: #f0f8ff;}#sk-container-id-1 input.sk-toggleable__control:checked~div.sk-toggleable__content {max-height: 200px;max-width: 100%;overflow: auto;}#sk-container-id-1 input.sk-toggleable__control:checked~label.sk-toggleable__label-arrow:before {content: \"▾\";}#sk-container-id-1 div.sk-estimator input.sk-toggleable__control:checked~label.sk-toggleable__label {background-color: #d4ebff;}#sk-container-id-1 div.sk-label input.sk-toggleable__control:checked~label.sk-toggleable__label {background-color: #d4ebff;}#sk-container-id-1 input.sk-hidden--visually {border: 0;clip: rect(1px 1px 1px 1px);clip: rect(1px, 1px, 1px, 1px);height: 1px;margin: -1px;overflow: hidden;padding: 0;position: absolute;width: 1px;}#sk-container-id-1 div.sk-estimator {font-family: monospace;background-color: #f0f8ff;border: 1px dotted black;border-radius: 0.25em;box-sizing: border-box;margin-bottom: 0.5em;}#sk-container-id-1 div.sk-estimator:hover {background-color: #d4ebff;}#sk-container-id-1 div.sk-parallel-item::after {content: \"\";width: 100%;border-bottom: 1px solid gray;flex-grow: 1;}#sk-container-id-1 div.sk-label:hover label.sk-toggleable__label {background-color: #d4ebff;}#sk-container-id-1 div.sk-serial::before {content: \"\";position: absolute;border-left: 1px solid gray;box-sizing: border-box;top: 0;bottom: 0;left: 50%;z-index: 0;}#sk-container-id-1 div.sk-serial {display: flex;flex-direction: column;align-items: center;background-color: white;padding-right: 0.2em;padding-left: 0.2em;position: relative;}#sk-container-id-1 div.sk-item {position: relative;z-index: 1;}#sk-container-id-1 div.sk-parallel {display: flex;align-items: stretch;justify-content: center;background-color: white;position: relative;}#sk-container-id-1 div.sk-item::before, #sk-container-id-1 div.sk-parallel-item::before {content: \"\";position: absolute;border-left: 1px solid gray;box-sizing: border-box;top: 0;bottom: 0;left: 50%;z-index: -1;}#sk-container-id-1 div.sk-parallel-item {display: flex;flex-direction: column;z-index: 1;position: relative;background-color: white;}#sk-container-id-1 div.sk-parallel-item:first-child::after {align-self: flex-end;width: 50%;}#sk-container-id-1 div.sk-parallel-item:last-child::after {align-self: flex-start;width: 50%;}#sk-container-id-1 div.sk-parallel-item:only-child::after {width: 0;}#sk-container-id-1 div.sk-dashed-wrapped {border: 1px dashed gray;margin: 0 0.4em 0.5em 0.4em;box-sizing: border-box;padding-bottom: 0.4em;background-color: white;}#sk-container-id-1 div.sk-label label {font-family: monospace;font-weight: bold;display: inline-block;line-height: 1.2em;}#sk-container-id-1 div.sk-label-container {text-align: center;}#sk-container-id-1 div.sk-container {/* jupyter's `normalize.less` sets `[hidden] { display: none; }` but bootstrap.min.css set `[hidden] { display: none !important; }` so we also need the `!important` here to be able to override the default hidden behavior on the sphinx rendered scikit-learn.org. See: https://github.com/scikit-learn/scikit-learn/issues/21755 */display: inline-block !important;position: relative;}#sk-container-id-1 div.sk-text-repr-fallback {display: none;}</style><div id=\"sk-container-id-1\" class=\"sk-top-container\"><div class=\"sk-text-repr-fallback\"><pre>RandomForestRegressor()</pre><b>In a Jupyter environment, please rerun this cell to show the HTML representation or trust the notebook. <br />On GitHub, the HTML representation is unable to render, please try loading this page with nbviewer.org.</b></div><div class=\"sk-container\" hidden><div class=\"sk-item\"><div class=\"sk-estimator sk-toggleable\"><input class=\"sk-toggleable__control sk-hidden--visually\" id=\"sk-estimator-id-1\" type=\"checkbox\" checked><label for=\"sk-estimator-id-1\" class=\"sk-toggleable__label sk-toggleable__label-arrow\">RandomForestRegressor</label><div class=\"sk-toggleable__content\"><pre>RandomForestRegressor()</pre></div></div></div></div></div>"
      ],
      "text/plain": [
       "RandomForestRegressor()"
      ]
     },
     "execution_count": 35,
     "metadata": {},
     "output_type": "execute_result"
    }
   ],
   "source": [
    "regressor.fit(X_train,Y_train)"
   ]
  },
  {
   "cell_type": "code",
   "execution_count": 36,
   "id": "d659298c",
   "metadata": {},
   "outputs": [],
   "source": [
    "test_data_prediction = regressor.predict(X_test)"
   ]
  },
  {
   "cell_type": "code",
   "execution_count": 37,
   "id": "48be7251",
   "metadata": {},
   "outputs": [
    {
     "name": "stdout",
     "output_type": "stream",
     "text": [
      "[168.49419924  82.11939975 115.98789998 127.74510087 120.7390013\n",
      " 154.78879681 150.11099765 126.20210061 117.53189884 126.06810089\n",
      " 116.66650097 172.84780091 140.93739871 167.67539884 115.12649994\n",
      " 117.67720035 137.26540361 169.91940044 159.77290267 159.89669987\n",
      " 155.11820044 125.04659988 176.15190045 156.84710314 125.36280048\n",
      "  93.71779956  77.42209993 120.42509974 119.00819924 167.40270007\n",
      "  88.3659005  125.30629955  91.22840062 117.64690005 121.13789934\n",
      " 136.15980109 115.4030013  114.85290083 148.22860016 106.99480081\n",
      " 104.82220258  87.18399799 126.34850025 117.8450997  154.05769917\n",
      " 119.8407001  108.49459968 108.27049825  93.10360041 126.8895984\n",
      "  75.0176003  113.6837992  121.10470023 111.21579922 118.88269873\n",
      " 120.40179966 159.43959998 165.7179013  146.78509673  85.81849849\n",
      "  94.23430024  86.85429876  90.70970032 118.95370088 126.46310032\n",
      " 127.62700006 169.58169957 122.27229912 117.20369895  98.4780003\n",
      " 168.36930133 143.0916985  132.15950232 121.27320227 120.92279931\n",
      " 119.71560067 114.57620164 118.22620048 106.84270108 128.00870077\n",
      " 113.98389996 107.48080005 116.72470045 119.61929889  89.1540004\n",
      "  88.26489886 146.84090269 127.42070005 113.58250009 110.2654986\n",
      " 108.28949903  77.16409889 170.431302   114.06999916 121.65929903\n",
      " 127.94710258 154.91349699  91.73479929 134.76600056 159.23120325\n",
      " 125.40770082 125.56480058 130.55310151 115.00520139 119.80170031\n",
      "  92.11030006 110.47059886 167.30040013 157.70239931 114.20279967\n",
      " 106.70860091  80.33289963 113.30700032 125.78760066 107.54229947\n",
      " 119.41770122 156.28120331 160.22829914 120.32339979 134.68900278\n",
      " 101.46050017 117.67759806 119.27150049 112.85110066 102.75269901\n",
      " 160.44369747  99.00320029 149.56609804 125.56340088 170.25119897\n",
      " 125.64329934 127.35599771 127.25350108 113.71799926 112.66660092\n",
      " 123.66819909 102.18239928  89.47339977 124.44639974 101.2633992\n",
      " 107.34679938 113.42540043 117.17060067  99.47569945 121.88810015\n",
      " 163.13819859  87.33239865 106.70169987 117.08980101 127.77030157\n",
      " 124.04340033  80.68539925 120.54450022 158.30319811  87.78909997\n",
      " 110.27919964 118.79039914 172.85519861 102.95989921 105.51670043\n",
      " 122.7714004  158.46139802  87.48419848  93.29550031 112.59840045\n",
      " 178.05259924 114.4005998  119.24290027  94.88980134 125.64140044\n",
      " 166.30680156 114.81160071 116.64990164  88.39749895 148.7055003\n",
      " 120.41069926  89.43529981 112.16510031 117.05100008 118.6310012\n",
      "  88.15809911  94.08840003 117.17459971 118.68550159 120.11940046\n",
      " 126.89699819 121.85080017 148.82220005 165.73520048 118.57889978\n",
      " 120.28720148 150.03550086 118.56909892 173.2383985  105.36589941\n",
      " 104.95560158 148.73030041 113.88450068 124.76510138 148.15059862\n",
      " 119.55670119 115.31170031 112.6705003  113.46520222 140.55890082\n",
      " 117.72459781 102.99160046 115.92240112 104.15850189  99.00840041\n",
      " 117.32090078  90.38200055  91.3598005  153.98629874 102.75969965\n",
      " 154.86290074 114.39930184 138.48160115  90.07939798 115.42089954\n",
      " 114.32619984 123.27960008 121.5862005  165.52240095  92.81699943\n",
      " 135.00860107 121.33719944 120.71670067 104.71419994 143.1271029\n",
      " 122.01859908 116.65810049 113.60600059 127.04059777 122.47989962\n",
      " 125.78779935 121.20640063  86.78149938 132.55930195 144.20890215\n",
      "  92.75909959 159.99419962 159.32140205 126.47489865 165.23499956\n",
      " 108.93869981 110.22250049 103.67079845  94.46830112 127.39060249\n",
      " 107.17490027 162.00230034 121.76499995 131.89830041 130.67660144\n",
      " 160.58389888  90.10629836 175.87180215 128.0073004  126.95249821\n",
      "  86.42109932 124.51769966 150.85959739  89.57469998 106.9187998\n",
      " 108.93050008  84.01269875 136.03449944 154.91570234 140.88790364\n",
      "  74.27230008 151.96370149 126.31899961 126.76390015 127.51589888\n",
      " 108.49369953 156.45320032 114.61090116 117.02580143 125.22999978\n",
      " 154.14440137 121.5063999  156.40419879  93.00000048 125.43770149\n",
      " 125.84640029  87.62630044  92.13689919 126.3555994  128.71850412\n",
      " 113.1711004  117.61059716 120.77540003 127.09959795 119.42440089\n",
      " 136.48880068  93.9935994  119.76520049 113.10060083  94.2234993\n",
      " 108.6579996   86.95779916 108.71159972  89.51369969  92.42100002\n",
      " 131.79910339 162.06390127  89.25059992 119.87880072 133.37740148\n",
      " 124.01330013 128.45550154 101.99959852  88.92589863 131.78280094\n",
      " 119.83380016 108.94019972 168.81320148 115.24440054  86.501599\n",
      " 118.94640043  90.93089962 161.8148005  116.63350048 121.59869988\n",
      " 160.40989858 120.06759946 112.68489933 108.49909888 126.53179959\n",
      "  76.13440025 103.03839977 127.36810273 121.68629924  92.53459989\n",
      " 131.94480102 118.03840142 116.21630008 154.3061028  159.39770114\n",
      " 110.09019985 153.8319967  119.34630101 160.55420107 118.63530052\n",
      " 159.29119895 114.99759943 116.60070037 148.91619921 114.74110095\n",
      " 125.84609875 166.85549956 117.80719997 125.21809946 153.04620346\n",
      " 153.42070247 131.98640056 114.69630034 121.31770189 125.15940075\n",
      "  89.77680049 123.39609998 154.91130055 111.73120041 106.73669967\n",
      " 161.81990133 118.5490995  165.60610028 134.06070088 115.1181001\n",
      " 153.11409938 168.94370102 114.37990015 113.98920103 159.27299918\n",
      "  85.35369879 127.1618003  128.02200019 128.79350038 124.5352006\n",
      " 124.04860116  90.64760086 153.03020078  97.17789973 137.78280015\n",
      "  89.14499908 107.50380023 115.0579005  112.633501   123.97139923\n",
      "  91.34149888 125.47750155 162.17489877 119.8584988  165.42020051\n",
      " 126.84429832 112.3240001  127.49989924  95.31069896  90.99669985\n",
      " 103.29109898 120.81170025  83.04679951 126.42449998 160.96700389\n",
      " 117.26070074 118.2579997  119.9340998  122.64969953 120.12220129\n",
      " 121.44799997 118.43560053 107.2042     148.29570016 126.39539855\n",
      " 115.74070074  73.86510011 127.83790107 154.68670084 121.92029959\n",
      " 125.53930074  88.66940019 103.36739856 124.42940054 120.33909996\n",
      "  73.30750067 151.74610101 121.06680035 104.66590019  86.29109783\n",
      " 115.250899   172.26469841 119.79870001 160.2693973  113.26199963\n",
      " 121.34470026 118.32000161  95.89109975 118.61490022 126.13390031\n",
      " 118.43849939  96.2619007  153.95000204 122.10580002 147.93369949\n",
      " 159.08340277 113.82230014 122.49199946 148.60059735 127.16290023\n",
      " 165.85470113 135.68469973 119.79189949 167.5325983  108.59629924\n",
      " 121.78879851 138.6527013  106.8518989 ]\n"
     ]
    }
   ],
   "source": [
    "print(test_data_prediction)"
   ]
  },
  {
   "cell_type": "code",
   "execution_count": 38,
   "id": "3ab2799e",
   "metadata": {},
   "outputs": [
    {
     "name": "stdout",
     "output_type": "stream",
     "text": [
      "R squared error :  0.9895419286906774\n"
     ]
    }
   ],
   "source": [
    "# R squared error\n",
    "error_score = metrics.r2_score(Y_test, test_data_prediction)\n",
    "print(\"R squared error : \", error_score)"
   ]
  },
  {
   "cell_type": "code",
   "execution_count": 39,
   "id": "da0b058d",
   "metadata": {},
   "outputs": [],
   "source": [
    "Y_test = list(Y_test)"
   ]
  },
  {
   "cell_type": "code",
   "execution_count": 40,
   "id": "2ed9fce5",
   "metadata": {},
   "outputs": [
    {
     "data": {
      "image/png": "[encoded data removed]",
      "text/plain": [
       "<Figure size 640x480 with 1 Axes>"
      ]
     },
     "metadata": {},
     "output_type": "display_data"
    }
   ],
   "source": [
    "plt.plot(Y_test, color='blue', label = 'Actual Value')\n",
    "plt.plot(test_data_prediction, color='green', label='Predicted Value')\n",
    "plt.title('Actual Price vs Predicted Price')\n",
    "plt.xlabel('Number of values')\n",
    "plt.ylabel('GLD Price')\n",
    "plt.legend()\n",
    "plt.show()"
   ]
  },
  {
   "cell_type": "code",
   "execution_count": null,
   "id": "d69f85be",
   "metadata": {},
   "outputs": [],
   "source": []
  }
 ],
 "metadata": {
  "kernelspec": {
   "display_name": "Python 3 (ipykernel)",
   "language": "python",
   "name": "python3"
  },
  "language_info": {
   "codemirror_mode": {
    "name": "ipython",
    "version": 3
   },
   "file_extension": ".py",
   "mimetype": "text/x-python",
   "name": "python",
   "nbconvert_exporter": "python",
   "pygments_lexer": "ipython3",
   "version": "3.11.5"
  }
 },
 "nbformat": 4,
 "nbformat_minor": 5
}
